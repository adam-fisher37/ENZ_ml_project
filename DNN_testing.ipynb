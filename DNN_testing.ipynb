{
 "cells": [
  {
   "cell_type": "markdown",
   "metadata": {},
   "source": [
    "DNN testing playground! \n",
    "\n",
    "i wanna put all the final shit for the DNN into a .py file but for now while I fuck with stuff, ill do it here. that is if this bad boi can even handle the big ass .h5py files I made, if not either make smaller ones or just use alpha."
   ]
  },
  {
   "cell_type": "code",
   "execution_count": 2,
   "metadata": {},
   "outputs": [
    {
     "name": "stdout",
     "output_type": "stream",
     "text": [
      "[name: \"/device:CPU:0\"\n",
      "device_type: \"CPU\"\n",
      "memory_limit: 268435456\n",
      "locality {\n",
      "}\n",
      "incarnation: 3675537013496737362\n",
      "]\n"
     ]
    }
   ],
   "source": [
    "# boilerplate, ensure you have these packages\n",
    "import numpy as np\n",
    "import tensorflow as tf\n",
    "from keras import callbacks\n",
    "from keras.callbacks import LearningRateScheduler as LRS\n",
    "from keras.models import Model\n",
    "from keras.layers import *\n",
    "from keras import optimizers as kopt\n",
    "import keras.backend as K\n",
    "import datetime\n",
    "import h5py\n",
    "import hyperopt as hopt\n",
    "\n",
    "import matplotlib.pyplot as plt\n",
    "%matplotlib inline\n",
    "import matplotlib as mpl\n",
    "mpl.rc('xtick', direction='in', top=True)\n",
    "mpl.rc('ytick', direction='in', right=True)\n",
    "mpl.rc('xtick.minor', visible=True)\n",
    "mpl.rc('ytick.minor', visible=True)\n",
    "\n",
    "from tensorflow.python.client import device_lib\n",
    "print(device_lib.list_local_devices())"
   ]
  },
  {
   "cell_type": "code",
   "execution_count": 6,
   "metadata": {},
   "outputs": [
    {
     "data": {
      "text/plain": [
       "0.7222222222222222"
      ]
     },
     "execution_count": 6,
     "metadata": {},
     "output_type": "execute_result"
    }
   ],
   "source": [
    "65./90."
   ]
  },
  {
   "cell_type": "code",
   "execution_count": null,
   "metadata": {},
   "outputs": [],
   "source": [
    "# data rescaling functions, want everything to be [0,1]\n",
    "# rescaling thicknesses, angle of incid, psi, delta\n",
    "# this info should be pulled from the corresponding .txt file!!!\n",
    "# ^although im not quite sure how I wanna do tht rn so just list it in the .txt file\n",
    "def resc_l(thickness):\n",
    "    'rescales the thicknesses to [0,1], takes in arrays'\n",
    "    resc = thickness*1e7 \n",
    "    return resc\n",
    "def resc_ang(aoi):\n",
    "    'rescales the aoi to [0,1], takes in arrays in DEGREES'\n",
    "    resc = aoi/90.\n",
    "    return resc\n",
    "def resc_ellips(ellips):\n",
    "    '''\n",
    "    rescales ellipsometric coeff psi and delta to [0,1], takes in array in RADS\n",
    "    able to take in negative numbers\n",
    "    '''"
   ]
  }
 ],
 "metadata": {
  "kernelspec": {
   "display_name": "Python 3",
   "language": "python",
   "name": "python3"
  },
  "language_info": {
   "codemirror_mode": {
    "name": "ipython",
    "version": 3
   },
   "file_extension": ".py",
   "mimetype": "text/x-python",
   "name": "python",
   "nbconvert_exporter": "python",
   "pygments_lexer": "ipython3",
   "version": "3.6.10"
  }
 },
 "nbformat": 4,
 "nbformat_minor": 4
}
