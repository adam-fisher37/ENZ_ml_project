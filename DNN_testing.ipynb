{
 "cells": [
  {
   "cell_type": "markdown",
   "metadata": {},
   "source": [
    "DNN testing playground! \n",
    "\n",
    "i wanna put all the final shit for the DNN into a .py file but for now while I fuck with stuff, ill do it here. that is if this bad boi can even handle the big ass .h5py files I made, if not either make smaller ones or just use alpha."
   ]
  },
  {
   "cell_type": "code",
   "execution_count": 22,
   "metadata": {},
   "outputs": [
    {
     "name": "stdout",
     "output_type": "stream",
     "text": [
      "[name: \"/device:CPU:0\"\n",
      "device_type: \"CPU\"\n",
      "memory_limit: 268435456\n",
      "locality {\n",
      "}\n",
      "incarnation: 11071562665701749354\n",
      "]\n"
     ]
    }
   ],
   "source": [
    "# boilerplate, ensure you have these packages\n",
    "import numpy as np\n",
    "import tensorflow as tf\n",
    "from keras import callbacks\n",
    "from keras.callbacks import LearningRateScheduler as LRS\n",
    "from keras.models import Model\n",
    "from keras.layers import *\n",
    "from keras import optimizers as kopt\n",
    "import keras.backend as K\n",
    "import datetime\n",
    "import h5py\n",
    "import hyperopt as hopt\n",
    "\n",
    "import matplotlib.pyplot as plt\n",
    "%matplotlib inline\n",
    "import matplotlib as mpl\n",
    "mpl.rc('xtick', direction='in', top=True)\n",
    "mpl.rc('ytick', direction='in', right=True)\n",
    "mpl.rc('xtick.minor', visible=True)\n",
    "mpl.rc('ytick.minor', visible=True)\n",
    "\n",
    "from tensorflow.python.client import device_lib\n",
    "print(device_lib.list_local_devices())"
   ]
  },
  {
   "cell_type": "code",
   "execution_count": 6,
   "metadata": {},
   "outputs": [
    {
     "data": {
      "text/plain": [
       "-5.0"
      ]
     },
     "execution_count": 6,
     "metadata": {},
     "output_type": "execute_result"
    }
   ],
   "source": []
  },
  {
   "cell_type": "code",
   "execution_count": 7,
   "metadata": {},
   "outputs": [],
   "source": [
    "# data rescaling functions, want everything to be [0,1]\n",
    "# rescaling thicknesses, angle of incid, psi, delta\n",
    "# this info should be pulled from the corresponding .txt file!!!\n",
    "# ^although im not quite sure how I wanna do tht rn so just list it in the .txt file\n",
    "def resc_l(thickness):\n",
    "    'rescales the thicknesses to [0,1], takes in arrays'\n",
    "    resc = thickness*1e7 \n",
    "    return resc\n",
    "def resc_ang(aoi):\n",
    "    'rescales the aoi to [0,1], takes in arrays in DEGREES'\n",
    "    resc = aoi/90.\n",
    "    return resc\n",
    "def resc_psi(psi):\n",
    "    '''\n",
    "    rescales ellipsometric coeff psi to basically [0,1], takes in array in DEGREES. returns in rescaled degrees\n",
    "    '''\n",
    "    resc = psi/90.\n",
    "    return resc\n",
    "def resc_del(delta):\n",
    "    '''\n",
    "    rescales ellipsometric coeff delta to be positive (by adding phase shift if needed)\n",
    "    takes in array in RADIANS (b/c its the natural output of tmm.ellips). returns rescaled degrees\n",
    "    '''\n",
    "    if (delta.min()<0.):\n",
    "        resc = delta + np.pi\n",
    "    resc = np.rad2deg(resc)/360.\n",
    "    return resc"
   ]
  },
  {
   "cell_type": "code",
   "execution_count": 27,
   "metadata": {},
   "outputs": [],
   "source": [
    "# funct to read in data\n",
    "def read_dat(fname,dataset,nlay,nang,nwvl):\n",
    "    '''\n",
    "    function to read in the training data within an .h5 file and rescale\n",
    "    currently used for ENZ proj with data for angle, thicknesses, rp, rs, tp, ts, psi, delta\n",
    "    NOTE: data should be a [N,T] array, w/ N for num of runs and T = nang + nlay + 6*nang*nwvl\n",
    "    inputs:\n",
    "    fname - string - file name containing the training data, pls use full file name\n",
    "    dataset - string - name of the dataset in the .h5 file\n",
    "    NOTE: currently doesn't support reading in data from more than 1 dataset\n",
    "    nlay - integer - number of layers in the multistack\n",
    "    nang - integer - number of angles of incidence investigated\n",
    "    nwvl - integer - number of wavelengths investigated\n",
    "    NOTE: will throw errors if inputs are not correct\n",
    "    outputs:\n",
    "    ang - array, float - [N,nang] array of rescaled angles\n",
    "    l - array, float - [N,nlay] array of rescaled thicknesses\n",
    "    rp,rs,tp,ts - array, float - each is a [N,nang*nwvl] array of R and T params\n",
    "    psi, delta - array, float - each is a [N,nang*nwvl] array of ellipsometric coeff in degrees\n",
    "    '''\n",
    "    # assertions to make sure inputs are good\n",
    "    assert isinstance(nang,int), 'incorrect input for: nang'\n",
    "    assert isinstance(nlay,int), 'incorrect input for: nlay'\n",
    "    assert isinstance(nwvl,int), 'incorrect input for: nwvl'\n",
    "    assert isinstance(fname,str), 'incorrect input for: fname'\n",
    "    assert isinstance(dataset,str), 'incorrect input for: dataset'\n",
    "    with h5py.File(fname,'r') as h:\n",
    "        dat = np.array(h.get(dataset))\n",
    "    # assertion to make sure this will read in data correctly\n",
    "    assert (dat[0,:].size == nang+nlay+6*nang*nwvl), 'total data shape and input shape do not match'\n",
    "    ang = dat[:,0:nang]\n",
    "    l = dat[:,nang:(nang+nlay)]\n",
    "    high = nang+nlay+nang*nwvl\n",
    "    rp = dat[:,(nang+nlay):high]\n",
    "    low = high\n",
    "    high += nang*nwvl\n",
    "    rs = dat[:,low:high]\n",
    "    low = high\n",
    "    high += nang*nwvl\n",
    "    tp = dat[:,low:high]\n",
    "    low = high\n",
    "    high += nang*nwvl\n",
    "    ts = dat[:,low:high]\n",
    "    low = high\n",
    "    high += nang*nwvl\n",
    "    psi = dat[:,low:high]\n",
    "    low = high\n",
    "    high += nang*nwvl\n",
    "    delta = dat[:,low:high]\n",
    "    # assertion to make sure data was read in correctly\n",
    "    assert (dat[-1,-1]==delta[-1,-1]), 'data was read incorrectly'\n",
    "    # delete the original array that was read in as it is just a space waster now\n",
    "    del dat\n",
    "    l = resc_l(l)\n",
    "    ang = resc_ang(ang)\n",
    "    psi = resc_psi(psi)\n",
    "    # to make sure phase shift is introduced correctly, need to seperate delta by angle\n",
    "    if (nang>1):\n",
    "        for i in range(nang):\n",
    "            delta[:,(i*nwvl):((i+1)*nwvl)] = resc_del(delta[:,(i*nwvl):((i+1)*nwvl)])\n",
    "    delta = resc_del(delta)\n",
    "    return (ang,l,rp,rs,tp,ts,psi,delta)"
   ]
  },
  {
   "cell_type": "code",
   "execution_count": 26,
   "metadata": {},
   "outputs": [
    {
     "name": "stdout",
     "output_type": "stream",
     "text": [
      "0\n",
      "1\n",
      "2\n"
     ]
    }
   ],
   "source": [
    "a = 3\n",
    "for i in range(a):\n",
    "    print(i)"
   ]
  }
 ],
 "metadata": {
  "kernelspec": {
   "display_name": "Python 3",
   "language": "python",
   "name": "python3"
  },
  "language_info": {
   "codemirror_mode": {
    "name": "ipython",
    "version": 3
   },
   "file_extension": ".py",
   "mimetype": "text/x-python",
   "name": "python",
   "nbconvert_exporter": "python",
   "pygments_lexer": "ipython3",
   "version": "3.6.10"
  }
 },
 "nbformat": 4,
 "nbformat_minor": 4
}
