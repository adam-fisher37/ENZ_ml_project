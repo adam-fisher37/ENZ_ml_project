{
 "cells": [
  {
   "cell_type": "markdown",
   "metadata": {},
   "source": [
    "DNN testing playground! \n",
    "\n",
    "i wanna put all the final shit for the DNN into a .py file but for now while I fuck with stuff, ill do it here. that is if this bad boi can even handle the big ass .h5py files I made, if not either make smaller ones or just use alpha."
   ]
  },
  {
   "cell_type": "code",
   "execution_count": 1,
   "metadata": {},
   "outputs": [
    {
     "name": "stderr",
     "output_type": "stream",
     "text": [
      "Using TensorFlow backend.\n"
     ]
    },
    {
     "name": "stdout",
     "output_type": "stream",
     "text": [
      "[name: \"/device:CPU:0\"\n",
      "device_type: \"CPU\"\n",
      "memory_limit: 268435456\n",
      "locality {\n",
      "}\n",
      "incarnation: 907726805916145777\n",
      "]\n"
     ]
    }
   ],
   "source": [
    "# boilerplate, ensure you have these packages\n",
    "import numpy as np\n",
    "import tensorflow as tf\n",
    "from keras import callbacks\n",
    "from keras.callbacks import LearningRateScheduler as LRS\n",
    "from keras.models import Model\n",
    "from keras.layers import *\n",
    "from keras import optimizers as kopt\n",
    "import keras.backend as K\n",
    "import keras as k\n",
    "import datetime\n",
    "import h5py\n",
    "import hyperopt as hopt\n",
    "import re\n",
    "import fnmatch as fm\n",
    "\n",
    "import matplotlib.pyplot as plt\n",
    "%matplotlib inline\n",
    "import matplotlib as mpl\n",
    "mpl.rc('xtick', direction='in', top=True)\n",
    "mpl.rc('ytick', direction='in', right=True)\n",
    "mpl.rc('xtick.minor', visible=True)\n",
    "mpl.rc('ytick.minor', visible=True)\n",
    "\n",
    "from tensorflow.python.client import device_lib\n",
    "print(device_lib.list_local_devices())"
   ]
  },
  {
   "cell_type": "code",
   "execution_count": 2,
   "metadata": {},
   "outputs": [],
   "source": [
    "# data rescaling functions, want everything to be [0,1]\n",
    "# rescaling thicknesses, angle of incid, psi, delta\n",
    "# this info should be pulled from the corresponding .txt file!!!\n",
    "# ^although im not quite sure how I wanna do tht rn so just list it in the .txt file\n",
    "def resc_l(thickness):\n",
    "    'rescales the thicknesses to [0,1], takes in arrays'\n",
    "    resc = thickness*1e7 \n",
    "    return resc\n",
    "def resc_ang(aoi):\n",
    "    'rescales the aoi to [0,1], takes in arrays in DEGREES'\n",
    "    resc = aoi/90.\n",
    "    return resc\n",
    "def resc_psi(psi):\n",
    "    '''\n",
    "    rescales ellipsometric coeff psi to basically [0,1], takes in array in DEGREES. returns in rescaled degrees\n",
    "    '''\n",
    "    resc = psi/90.\n",
    "    return resc\n",
    "def resc_del(delta):\n",
    "    '''\n",
    "    rescales ellipsometric coeff delta to be positive (by adding phase shift if needed)\n",
    "    takes in array in RADIANS (b/c its the natural output of tmm.ellips). returns rescaled degrees\n",
    "    '''\n",
    "    if (delta.min()<0.):\n",
    "        resc = delta + np.pi\n",
    "    resc = np.rad2deg(resc)/360.\n",
    "    return resc"
   ]
  },
  {
   "cell_type": "code",
   "execution_count": 3,
   "metadata": {},
   "outputs": [],
   "source": [
    "# learning rate decay function\n",
    "def decay(ep):\n",
    "    'learning rate decay function, input is epochs, may not actually be used since i dont have live update guy'\n",
    "    a = .0025\n",
    "    lr = a/((ep)+1)\n",
    "    return lr\n",
    "lr = LRS(decay)\n"
   ]
  },
  {
   "cell_type": "code",
   "execution_count": 4,
   "metadata": {},
   "outputs": [],
   "source": [
    "# funct to read in data\n",
    "def read_dat(fname,dataset,nlay,nang,nwvl):\n",
    "    '''\n",
    "    function to read in the training data within an .h5 file and rescale\n",
    "    currently used for ENZ proj with data for angle, thicknesses, rp, rs, tp, ts, psi, delta\n",
    "    NOTE: data should be a [N,T] array, w/ N for num of runs and T = nang + nlay + 6*nang*nwvl\n",
    "    inputs:\n",
    "    fname - string - file name containing the training data, pls use full file name\n",
    "    dataset - string - name of the dataset in the .h5 file\n",
    "    NOTE: currently doesn't support reading in data from more than 1 dataset\n",
    "    nlay - integer - number of layers in the multistack\n",
    "    nang - integer - number of angles of incidence investigated\n",
    "    nwvl - integer - number of wavelengths investigated\n",
    "    NOTE: will throw errors if inputs are not correct\n",
    "    outputs:\n",
    "    ang - array, float - [N,nang] array of rescaled angles\n",
    "    l - array, float - [N,nlay] array of rescaled thicknesses\n",
    "    rp,rs,tp,ts - array, float - each is a [N,nang*nwvl] array of R and T params\n",
    "    psi, delta - array, float - each is a [N,nang*nwvl] array of ellipsometric coeff in degrees\n",
    "    '''\n",
    "    # assertions to make sure inputs are good\n",
    "    assert isinstance(nang,int), 'incorrect input for: nang'\n",
    "    assert isinstance(nlay,int), 'incorrect input for: nlay'\n",
    "    assert isinstance(nwvl,int), 'incorrect input for: nwvl'\n",
    "    assert isinstance(fname,str), 'incorrect input for: fname'\n",
    "    assert isinstance(dataset,str), 'incorrect input for: dataset'\n",
    "    with h5py.File(fname,'r') as h:\n",
    "        dat = np.array(h.get(dataset))\n",
    "    # assertion to make sure this will read in data correctly\n",
    "    assert (dat[0,0,:].size == nang+nlay+6*nang*nwvl), 'total data shape and input shape do not match'\n",
    "    ang = dat[:,0,0:nang]\n",
    "    l = dat[:,0,nang:(nang+nlay)]\n",
    "    high = nang+nlay+nang*nwvl\n",
    "    rp = dat[:,0,(nang+nlay):high]\n",
    "    low = high\n",
    "    high += nang*nwvl\n",
    "    rs = dat[:,0,low:high]\n",
    "    low = high\n",
    "    high += nang*nwvl\n",
    "    tp = dat[:,0,low:high]\n",
    "    low = high\n",
    "    high += nang*nwvl\n",
    "    ts = dat[:,0,low:high]\n",
    "    low = high\n",
    "    high += nang*nwvl\n",
    "    psi = dat[:,0,low:high]\n",
    "    low = high\n",
    "    high += nang*nwvl\n",
    "    delta = dat[:,0,low:high]\n",
    "    # assertion to make sure data was read in correctly\n",
    "    assert (dat[-1,0,-1]==delta[-1,-1]), 'data was read incorrectly'\n",
    "    # delete the original array that was read in as it is just a space waster now\n",
    "    del dat\n",
    "    l = resc_l(l)\n",
    "    ang = resc_ang(ang)\n",
    "    psi = resc_psi(psi)\n",
    "    # to make sure phase shift is introduced correctly, need to seperate delta by angle\n",
    "    if (nang>1):\n",
    "        for i in range(nang):\n",
    "            delta[:,(i*nwvl):((i+1)*nwvl)] = resc_del(delta[:,(i*nwvl):((i+1)*nwvl)])\n",
    "    delta = resc_del(delta)\n",
    "    return (ang,l,rp,rs,tp,ts,psi,delta)"
   ]
  },
  {
   "cell_type": "code",
   "execution_count": 5,
   "metadata": {},
   "outputs": [],
   "source": [
    "# function that combines 'read_dat' and 'split_dat'\n",
    "def rs_dat(fname,dataset,nlay,nang,nwvl,n_tr,n_te,input_names,tr_dict,te_dict):\n",
    "    '''\n",
    "    function to read the data from the .h5 file with 'read_dat'\n",
    "    and then split it into training and testing dictionaries\n",
    "    note: currently using Keras' Model.fit 'validation_split' function for validation dat\n",
    "    ^ but still want a 90%,5%,5% split btwn training, validation, and testing\n",
    "    and should throw errors if things go wrong\n",
    "    inputs:\n",
    "    fname - string - file name containing the training data, pls use full file name\n",
    "    dataset - string - name of the dataset in the .h5 file\n",
    "    NOTE: currently doesn't support reading in data from more than 1 dataset\n",
    "    nlay - integer - number of layers in the multistack\n",
    "    nang - integer - number of angles of incidence investigated\n",
    "    nwvl - integer - number of wavelengths investigated\n",
    "    n_tr - integer - number of sets for training\n",
    "    n_te - integer - number of sets for testing\n",
    "    input_names = array, strings - array with the names of the input tensors of your model to fill the dictionaries\n",
    "    ^ useful for this and to make sure the model construction function is correct\n",
    "    tr_dict/te_dict - dictionary - dict's that can be used as inputs in keras' Model.fit/evaluate\n",
    "    ^ should be empty, and will only work if use 'build_mod'\n",
    "    outputs:\n",
    "    tr_dict/te_dict - dictionary - the dictionaries containing the correctly split up data for training/validation\n",
    "    trl/tel - array, float - the arrays of the \n",
    "    (tr_dict,te_dict,trl,tel) - tuple dictionaries  - the dictionaries containing the correctly split up data for training/validation\n",
    "    ^ dict keys will be in the same order that the input layers were created\n",
    "    '''\n",
    "    # read in data\n",
    "    (ang,l,rp,rs,tp,ts,psi,delta) = read_dat(fname,dataset,nlay,nang,nwvl)\n",
    "    # assert good splits and take care of thicknesses\n",
    "    assert (n_tr+n_te == ang.shape[0]), 'error: invalid split btwn training/testing'\n",
    "    trl = l[:n_tr,:]\n",
    "    tel = l[n_tr:,:]\n",
    "    # removing outputs from 'read_dat' once their data is where it needs to be\n",
    "    del l\n",
    "    # check the dictionaries are empty\n",
    "    assert (len(tr_dict)==len(te_dict)==0), 'error: non-empty dictionaries, please empty and try again'\n",
    "    # fill the dict with the names and give them a placeholder array of the correct size\n",
    "    a = 0\n",
    "    b = 0\n",
    "    I = len(input_names)//nang\n",
    "    while (a<len(input_names)):\n",
    "        tr_dict[input_names[a]] = np.zeros((n_tr,(ang,rp,rs,tp,ts,psi,delta)[b].shape[1]//nang))\n",
    "        te_dict[input_names[a]] = np.zeros((n_te,(ang,rp,rs,tp,ts,psi,delta)[b].shape[1]//nang))\n",
    "        a += 1\n",
    "        if (b<(I-1)):\n",
    "            b += 1\n",
    "        else:\n",
    "            b = 0\n",
    "    # for checking data was loaded in correctly b/c dictionary items are changable\n",
    "    bef1 = np.array([tr_dict[key].shape for key in tr_dict])\n",
    "    bef2 = np.array([te_dict[key].shape for key in te_dict])\n",
    "    # put the data in the bag (dict), PUT IT IN, props if you get this\n",
    "    a = 0\n",
    "    b = 0\n",
    "    c = 0\n",
    "    for key in tr_dict:\n",
    "        x = (tr_dict[key].shape[1])\n",
    "        if re.search('1',key):\n",
    "            tr_dict[key] = (ang,rp,rs,tp,ts,psi,delta)[a][:n_tr,0:x]\n",
    "            te_dict[key] = (ang,rp,rs,tp,ts,psi,delta)[a][n_tr:,0:x]\n",
    "            a += 1\n",
    "        elif re.search('2',key):\n",
    "            tr_dict[key] = (ang,rp,rs,tp,ts,psi,delta)[b][:n_tr,x:(2*x)]\n",
    "            te_dict[key] = (ang,rp,rs,tp,ts,psi,delta)[b][n_tr:,x:(2*x)]\n",
    "            b += 1\n",
    "        else:\n",
    "            tr_dict[key] = (ang,rp,rs,tp,ts,psi,delta)[c][:n_tr,(2*x):]\n",
    "            te_dict[key] = (ang,rp,rs,tp,ts,psi,delta)[c][n_tr:,(2*x):]\n",
    "            c += 1\n",
    "    # remove the rest of the data from memory\n",
    "    # del ang; del rp; del rs; del tp; del ts; del psi; del delta\n",
    "    # check if items were changed\n",
    "    aft1 = np.array([tr_dict[key].shape for key in tr_dict])\n",
    "    aft2 = np.array([te_dict[key].shape for key in te_dict])\n",
    "    assert (np.all(bef1==aft1)), 'error: shape mismatch after data was loaded into the training dict'\n",
    "    assert (np.all(bef2==aft2)), 'error: shape mismatch after data was loaded into the testing dict'\n",
    "    return (trl,tel,tr_dict,te_dict)"
   ]
  },
  {
   "cell_type": "code",
   "execution_count": 6,
   "metadata": {},
   "outputs": [],
   "source": [
    "# input names, since i can use a dict for training and testing\n",
    "input_names = np.array(['angle_1','rp_1','rs_1','tp_1','ts_1','psi_1','delta_1','angle_2','rp_2','rs_2','tp_2','ts_2','psi_2','delta_2','angle_3','rp_3','rs_3','tp_3','ts_3','psi_3','delta_3'])"
   ]
  },
  {
   "cell_type": "code",
   "execution_count": 7,
   "metadata": {},
   "outputs": [],
   "source": [
    "wvl = np.linspace(400.,1000,121)\n",
    "nwvl = len(wvl)\n",
    "nlay = 15\n",
    "nang = 3\n",
    "n_tr = 450\n",
    "n_te = 50\n",
    "tr_dict = dict()\n",
    "te_dict = dict()\n",
    "fname = 'traindata_enzchar_lay15_mats3_n0.5k_20210216.hdf5'"
   ]
  },
  {
   "cell_type": "code",
   "execution_count": 8,
   "metadata": {},
   "outputs": [],
   "source": [
    "(trl,tel,tr_dict,te_dict) = rs_dat(fname,'data',nlay,nang,nwvl,n_tr,n_te,input_names,tr_dict,te_dict)"
   ]
  },
  {
   "cell_type": "code",
   "execution_count": 9,
   "metadata": {},
   "outputs": [],
   "source": [
    "# heres the model babey\n",
    "# make an input for the input names to run an assert and make sure they match\n",
    "def build_mod(drop,nwvl,act='relu',input_names=None):\n",
    "    '''\n",
    "    builds a DNN model that can be used for machine learing\n",
    "    currently takes the inputs based by angle, does the DNN thing and should be outputting\n",
    "    the thicknesses of each layer in the multistack.\n",
    "    currently assuming there are three aoi's\n",
    "    input:\n",
    "    drop - float - dropout rate can be (0,1) exclusive\n",
    "    nwvl - integer - number of wavelengths investigated\n",
    "    act - string - activation method for Dense layer, default 'relu', see keras Dense documentation for more options\n",
    "    ^ NOTE: this is for the inner Dense layers the ones at the end can/will be different\n",
    "    input_names = array, strings - array with the names of the input tensors of your model\n",
    "    ^ default is None, however using this feature ensures compatibility btwn your model and dictionaries, before model is compiled\n",
    "    output:\n",
    "    model - model obj - a full fledged keras model, it has ONLY BEEN MADE, needs to be compiled and named\n",
    "    '''\n",
    "    # inputs are grouped by aoi\n",
    "    a1 = Input((1,),name='angle_1')\n",
    "    rp1 = Input((nwvl,),name='rp_1'); rs1 = Input((nwvl,),name='rs_1')\n",
    "    tp1 = Input((nwvl,),name='tp_1'); ts1 = Input((nwvl,),name='ts_1')\n",
    "    p1 = Input((nwvl,),name='psi_1'); d1 = Input((nwvl,),name='delta_1')\n",
    "    a2 = Input((1,),name='angle_2')\n",
    "    rp2 = Input((nwvl,),name='rp_2'); rs2 = Input((nwvl,),name='rs_2')\n",
    "    tp2 = Input((nwvl,),name='tp_2'); ts2 = Input((nwvl,),name='ts_2')\n",
    "    p2 = Input((nwvl,),name='psi_2'); d2 = Input((nwvl,),name='delta_2')\n",
    "    a3 = Input((1,),name='angle_3')\n",
    "    rp3 = Input((nwvl,),name='rp_3'); rs3 = Input((nwvl,),name='rs_3')\n",
    "    tp3 = Input((nwvl,),name='tp_3'); ts3 = Input((nwvl,),name='ts_3')\n",
    "    p3 = Input((nwvl,),name='psi_3'); d3 = Input((nwvl,),name='delta_3')\n",
    "    # connect the inputs\n",
    "    # currently im thinking connecting them in a similar fasion as the rows\n",
    "    # these are midpoints and so shall be named: m##, 1st #: layer num, 2nd #: index within layer\n",
    "    # note: add layer makes a tensor of the same size of the inputs but idk how tht works if they arent the same size so im just doing it like andy for rn\n",
    "    m11 = Add()([a1,rp1,rs1]); m12 = Add()([a1,tp1,ts1]); m13 = Add()([a1,p1,d1])\n",
    "    m14 = Add()([a2,rp2,rs2]); m15 = Add()([a2,tp2,ts2]); m16 = Add()([a2,p2,d2])\n",
    "    m17 = Add()([a3,rp3,rs3]); m18 = Add()([a3,tp3,ts3]); m19 = Add()([a3,p3,d3])\n",
    "    # dense layer, followed by a dropout\n",
    "    # name scheme: x##: 1st #: dense layer num, 2nd #: index within layer\n",
    "    x11 = Dense(nwvl,activation=act)(m11); x11 = Dropout(drop)(x11)\n",
    "    x12 = Dense(nwvl,activation=act)(m12); x12 = Dropout(drop)(x12)\n",
    "    x13 = Dense(nwvl,activation=act)(m13); x13 = Dropout(drop)(x13)\n",
    "    x14 = Dense(nwvl,activation=act)(m14); x14 = Dropout(drop)(x14)\n",
    "    x15 = Dense(nwvl,activation=act)(m15); x15 = Dropout(drop)(x15)\n",
    "    x16 = Dense(nwvl,activation=act)(m16); x16 = Dropout(drop)(x16)\n",
    "    x17 = Dense(nwvl,activation=act)(m17); x17 = Dropout(drop)(x17)\n",
    "    x18 = Dense(nwvl,activation=act)(m18); x18 = Dropout(drop)(x18)\n",
    "    x19 = Dense(nwvl,activation=act)(m19); x19 = Dropout(drop)(x19)\n",
    "    # another Add layer, now m2#, combining all data from each aoi together\n",
    "    m21 = Add()([x11,x12,x13])\n",
    "    m22 = Add()([x14,x15,x16])\n",
    "    m23 = Add()([x17,x18,x19])\n",
    "    # another Dense layer, also followed by a dropout \n",
    "    # name now x2#, also increase output size\n",
    "    x21 = Dense((nwvl+50),activation=act)(m21); x21 = Dropout(drop)(x21)\n",
    "    x22 = Dense((nwvl+50),activation=act)(m22); x22 = Dropout(drop)(x22)\n",
    "    x23 = Dense((nwvl+50),activation=act)(m23); x23 = Dropout(drop)(x23)\n",
    "    # another Add layer, now m3#, combining all data together\n",
    "    m31 = Add()([x21,x22,x23])\n",
    "    # another dense layer with dropout after, now x3#\n",
    "    x31 = Dense((nwvl+100),activation=act)(m31)\n",
    "    x31 = Dropout(drop)(x31)\n",
    "    # last 'internal' layer, prep for output layer\n",
    "    # note: i have no idea what the output for this layer should be, consult andy\n",
    "    x41 = Dense(100,activation=act)(x31)\n",
    "    # output layer\n",
    "    # note: no idea what the activation should be for this one, consult andy\n",
    "    l_out = Dense(15,activation=None)(x41)\n",
    "    # checking if inputs match (if possible), and putting the model together\n",
    "    model = Model([a1,rp1,rs1,tp1,ts1,p1,d1,a2,rp2,rs2,tp2,ts2,p2,d2,a3,rp3,rs3,tp3,ts3,p3,d3],[l_out])\n",
    "    if (np.all(input_names==None)):\n",
    "        print('have fun doing inputs by hand my friend')\n",
    "    elif (hasattr(input_names,'T')):\n",
    "        # only use names from input layers\n",
    "        check_names = np.array([layer.name for layer in model.layers if (re.search('add|dense|dropout',layer.name)==None) and (np.any(input_names==layer.name)==True)])\n",
    "        assert (len(check_names)==len(input_names)), 'error: mismatch btwn #/elements in input_names and input tensors'\n",
    "        print('congrats you can be lazy and just pass your dictionaries into the model and let keras figure it out')\n",
    "    else:\n",
    "        raise Exception('input_names has incompatible form')\n",
    "    return model"
   ]
  },
  {
   "cell_type": "code",
   "execution_count": 10,
   "metadata": {},
   "outputs": [],
   "source": [
    "drop = 0."
   ]
  },
  {
   "cell_type": "code",
   "execution_count": 11,
   "metadata": {},
   "outputs": [
    {
     "name": "stdout",
     "output_type": "stream",
     "text": [
      "WARNING:tensorflow:From C:\\Users\\afish\\.conda\\envs\\ml_env\\lib\\site-packages\\keras\\backend\\tensorflow_backend.py:517: The name tf.placeholder is deprecated. Please use tf.compat.v1.placeholder instead.\n",
      "\n",
      "WARNING:tensorflow:From C:\\Users\\afish\\.conda\\envs\\ml_env\\lib\\site-packages\\keras\\backend\\tensorflow_backend.py:74: The name tf.get_default_graph is deprecated. Please use tf.compat.v1.get_default_graph instead.\n",
      "\n",
      "WARNING:tensorflow:From C:\\Users\\afish\\.conda\\envs\\ml_env\\lib\\site-packages\\keras\\backend\\tensorflow_backend.py:4138: The name tf.random_uniform is deprecated. Please use tf.random.uniform instead.\n",
      "\n",
      "congrats you can be lazy and just pass your dictionaries into the model and let keras figure it out\n",
      "WARNING:tensorflow:From C:\\Users\\afish\\.conda\\envs\\ml_env\\lib\\site-packages\\keras\\optimizers.py:790: The name tf.train.Optimizer is deprecated. Please use tf.compat.v1.train.Optimizer instead.\n",
      "\n"
     ]
    }
   ],
   "source": [
    "mod = build_mod(drop,nwvl,input_names=input_names)\n",
    "# compiling the same way as andy rn\n",
    "mod.compile(optimizer='adam',loss=['mse'],metrics=['mse','accuracy'],loss_weights=[10])\n",
    "modname = 'enzchar_invdes_model_d21621.h5'"
   ]
  },
  {
   "cell_type": "code",
   "execution_count": 12,
   "metadata": {},
   "outputs": [
    {
     "name": "stdout",
     "output_type": "stream",
     "text": [
      "WARNING:tensorflow:From C:\\Users\\afish\\.conda\\envs\\ml_env\\lib\\site-packages\\keras\\backend\\tensorflow_backend.py:174: The name tf.get_default_session is deprecated. Please use tf.compat.v1.get_default_session instead.\n",
      "\n",
      "WARNING:tensorflow:From C:\\Users\\afish\\.conda\\envs\\ml_env\\lib\\site-packages\\keras\\backend\\tensorflow_backend.py:181: The name tf.ConfigProto is deprecated. Please use tf.compat.v1.ConfigProto instead.\n",
      "\n",
      "WARNING:tensorflow:From C:\\Users\\afish\\.conda\\envs\\ml_env\\lib\\site-packages\\keras\\backend\\tensorflow_backend.py:186: The name tf.Session is deprecated. Please use tf.compat.v1.Session instead.\n",
      "\n",
      "WARNING:tensorflow:From C:\\Users\\afish\\.conda\\envs\\ml_env\\lib\\site-packages\\keras\\backend\\tensorflow_backend.py:190: The name tf.global_variables is deprecated. Please use tf.compat.v1.global_variables instead.\n",
      "\n",
      "WARNING:tensorflow:From C:\\Users\\afish\\.conda\\envs\\ml_env\\lib\\site-packages\\keras\\backend\\tensorflow_backend.py:199: The name tf.is_variable_initialized is deprecated. Please use tf.compat.v1.is_variable_initialized instead.\n",
      "\n",
      "WARNING:tensorflow:From C:\\Users\\afish\\.conda\\envs\\ml_env\\lib\\site-packages\\keras\\backend\\tensorflow_backend.py:206: The name tf.variables_initializer is deprecated. Please use tf.compat.v1.variables_initializer instead.\n",
      "\n"
     ]
    }
   ],
   "source": [
    "mod.save(modname)"
   ]
  },
  {
   "cell_type": "code",
   "execution_count": 13,
   "metadata": {},
   "outputs": [],
   "source": [
    "# mod.summary()"
   ]
  },
  {
   "cell_type": "code",
   "execution_count": 14,
   "metadata": {},
   "outputs": [
    {
     "name": "stdout",
     "output_type": "stream",
     "text": [
      "WARNING:tensorflow:From C:\\Users\\afish\\.conda\\envs\\ml_env\\lib\\site-packages\\keras\\backend\\tensorflow_backend.py:986: The name tf.assign_add is deprecated. Please use tf.compat.v1.assign_add instead.\n",
      "\n",
      "WARNING:tensorflow:From C:\\Users\\afish\\.conda\\envs\\ml_env\\lib\\site-packages\\keras\\backend\\tensorflow_backend.py:973: The name tf.assign is deprecated. Please use tf.compat.v1.assign instead.\n",
      "\n",
      "Train on 405 samples, validate on 45 samples\n",
      "Epoch 1/5\n",
      " - 4s - loss: 10.5935 - mean_squared_error: 1.0594 - acc: 0.0938 - val_loss: 0.7994 - val_mean_squared_error: 0.0799 - val_acc: 0.1778\n",
      "Epoch 2/5\n",
      " - 0s - loss: 0.4056 - mean_squared_error: 0.0406 - acc: 0.1358 - val_loss: 0.2625 - val_mean_squared_error: 0.0263 - val_acc: 0.2000\n",
      "Epoch 3/5\n",
      " - 0s - loss: 0.2183 - mean_squared_error: 0.0218 - acc: 0.1580 - val_loss: 0.1921 - val_mean_squared_error: 0.0192 - val_acc: 0.2222\n",
      "Epoch 4/5\n",
      " - 0s - loss: 0.1780 - mean_squared_error: 0.0178 - acc: 0.2247 - val_loss: 0.1864 - val_mean_squared_error: 0.0186 - val_acc: 0.2222\n",
      "Epoch 5/5\n",
      " - 0s - loss: 0.1699 - mean_squared_error: 0.0170 - acc: 0.2617 - val_loss: 0.1751 - val_mean_squared_error: 0.0175 - val_acc: 0.2222\n",
      "[0.18418414950370787, 0.018418415226042272, 0.26000000357627867]\n"
     ]
    },
    {
     "data": {
      "text/plain": [
       "[<matplotlib.lines.Line2D at 0x126ec2a2748>]"
      ]
     },
     "execution_count": 14,
     "metadata": {},
     "output_type": "execute_result"
    },
    {
     "data": {
      "image/png": "[encoded data removed]",
      "text/plain": [
       "<Figure size 432x288 with 1 Axes>"
      ]
     },
     "metadata": {
      "needs_background": "light"
     },
     "output_type": "display_data"
    }
   ],
   "source": [
    "# put the data in the model, use the meatgrinder\n",
    "history = mod.fit(tr_dict,trl,epochs=5,verbose=2,validation_split=.1,callbacks=[lr])\n",
    "# usually you save after this\n",
    "# mod.save(modname) # but i dont wanna\n",
    "# eval and print stats on fit\n",
    "mod_loss = mod.evaluate(te_dict,tel,verbose=2)\n",
    "print(mod_loss)\n",
    "plt.plot(history.history['lr']);"
   ]
  }
 ],
 "metadata": {
  "kernelspec": {
   "display_name": "Python 3",
   "language": "python",
   "name": "python3"
  },
  "language_info": {
   "codemirror_mode": {
    "name": "ipython",
    "version": 3
   },
   "file_extension": ".py",
   "mimetype": "text/x-python",
   "name": "python",
   "nbconvert_exporter": "python",
   "pygments_lexer": "ipython3",
   "version": "3.6.10"
  }
 },
 "nbformat": 4,
 "nbformat_minor": 4
}
