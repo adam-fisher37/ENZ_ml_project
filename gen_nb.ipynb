{
 "cells": [
  {
   "cell_type": "code",
   "execution_count": 1,
   "metadata": {},
   "outputs": [],
   "source": [
    "# boilerplate\n",
    "import numpy as np\n",
    "import gendata_char as gen\n",
    "import datetime\n",
    "import h5py\n",
    "\n",
    "ang = np.array([55.,60,65])\n",
    "setlen = 500000"
   ]
  },
  {
   "cell_type": "code",
   "execution_count": 3,
   "metadata": {},
   "outputs": [
    {
     "name": "stdout",
     "output_type": "stream",
     "text": [
      "2021-02-16 09:28:19.486289\n",
      "Will parallelize with 6 cores.\n",
      "\n",
      "doing that data thang, please wait...\n",
      "puttin that mf in ya file\n",
      "congrats u done!\n"
     ]
    }
   ],
   "source": [
    "dset = 'data'\n",
    "com = '55-5-65 deg, dset = data, run at:'+str(datetime.datetime.now())\n",
    "print(datetime.datetime.now())\n",
    "gen.gen_dat(ang,setlen,com,dset)"
   ]
  }
 ],
 "metadata": {
  "kernelspec": {
   "display_name": "Python 3",
   "language": "python",
   "name": "python3"
  },
  "language_info": {
   "codemirror_mode": {
    "name": "ipython",
    "version": 3
   },
   "file_extension": ".py",
   "mimetype": "text/x-python",
   "name": "python",
   "nbconvert_exporter": "python",
   "pygments_lexer": "ipython3",
   "version": "3.6.10"
  }
 },
 "nbformat": 4,
 "nbformat_minor": 4
}
